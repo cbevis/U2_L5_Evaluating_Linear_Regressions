{
 "cells": [
  {
   "cell_type": "code",
   "execution_count": 1,
   "metadata": {},
   "outputs": [],
   "source": [
    "import pandas as pd\n",
    "import numpy as np\n",
    "import matplotlib.pyplot as plt\n",
    "import statsmodels.formula.api as smf\n",
    "from statsmodels.sandbox.regression.predstd import wls_prediction_std\n",
    "import seaborn as sns\n",
    "from sklearn.linear_model import LinearRegression\n",
    "from sklearn import metrics\n",
    "from sklearn.model_selection import train_test_split\n",
    "from sklearn.model_selection import KFold\n",
    "from sklearn.model_selection import cross_val_score\n",
    "\n",
    "%matplotlib inline"
   ]
  },
  {
   "cell_type": "code",
   "execution_count": 2,
   "metadata": {},
   "outputs": [],
   "source": [
    "# Import the two data sets\n",
    "ny = pd.read_excel('table_8_offenses_known_to_law_enforcement_new_york_by_city_2013.xlsx',\n",
    "                  header=4, skipfooter=3)\n",
    "\n",
    "ca = pd.read_excel('table_8_offenses_known_to_law_enforcement_california_by_city_2013.xls', \n",
    "                  header=4, skipfooter=2)\n"
   ]
  },
  {
   "cell_type": "code",
   "execution_count": 3,
   "metadata": {},
   "outputs": [],
   "source": [
    "# Clean up column names to be worked with\n",
    "def fix_column_names(data):\n",
    "    data.columns = data.columns.str.replace('\\n', '_')\n",
    "    data.columns = data.columns.str.replace('(', '')\n",
    "    data.columns = data.columns.str.replace(')', '')\n",
    "    data.columns = data.columns.str.replace('-', '')\n",
    "    data.columns = data.columns.str.replace(' ', '')\n",
    "    data.columns = data.columns.str.lower()\n",
    "    \n",
    "    return data.columns"
   ]
  },
  {
   "cell_type": "code",
   "execution_count": 4,
   "metadata": {},
   "outputs": [
    {
     "name": "stdout",
     "output_type": "stream",
     "text": [
      "Index(['city', 'population', 'violent_crime',\n",
      "       'murderand_nonnegligent_manslaughter', 'rape_revised_definition1',\n",
      "       'rape_legacy_definition2', 'robbery', 'aggravated_assault',\n",
      "       'property_crime', 'burglary', 'larceny_theft', 'motor_vehicle_theft',\n",
      "       'arson'],\n",
      "      dtype='object')\n"
     ]
    }
   ],
   "source": [
    "# Clean up the column names\n",
    "ca.columns = fix_column_names(ca)\n",
    "ny.columns = fix_column_names(ny)\n",
    "\n",
    "print(ca.columns)"
   ]
  },
  {
   "cell_type": "code",
   "execution_count": 5,
   "metadata": {},
   "outputs": [
    {
     "data": {
      "text/html": [
       "<div>\n",
       "<style scoped>\n",
       "    .dataframe tbody tr th:only-of-type {\n",
       "        vertical-align: middle;\n",
       "    }\n",
       "\n",
       "    .dataframe tbody tr th {\n",
       "        vertical-align: top;\n",
       "    }\n",
       "\n",
       "    .dataframe thead th {\n",
       "        text-align: right;\n",
       "    }\n",
       "</style>\n",
       "<table border=\"1\" class=\"dataframe\">\n",
       "  <thead>\n",
       "    <tr style=\"text-align: right;\">\n",
       "      <th></th>\n",
       "      <th>city</th>\n",
       "      <th>population</th>\n",
       "      <th>violent_crime</th>\n",
       "      <th>murderand_nonnegligent_manslaughter</th>\n",
       "      <th>rape_revised_definition1</th>\n",
       "      <th>rape_legacy_definition2</th>\n",
       "      <th>robbery</th>\n",
       "      <th>aggravated_assault</th>\n",
       "      <th>property_crime</th>\n",
       "      <th>burglary</th>\n",
       "      <th>larceny_theft</th>\n",
       "      <th>motor_vehicle_theft</th>\n",
       "      <th>arson3</th>\n",
       "    </tr>\n",
       "  </thead>\n",
       "  <tbody>\n",
       "    <tr>\n",
       "      <th>216</th>\n",
       "      <td>New York</td>\n",
       "      <td>8396126</td>\n",
       "      <td>52384</td>\n",
       "      <td>335</td>\n",
       "      <td>NaN</td>\n",
       "      <td>1112</td>\n",
       "      <td>19170</td>\n",
       "      <td>31767</td>\n",
       "      <td>141971</td>\n",
       "      <td>16606</td>\n",
       "      <td>117931</td>\n",
       "      <td>7434</td>\n",
       "      <td>NaN</td>\n",
       "    </tr>\n",
       "  </tbody>\n",
       "</table>\n",
       "</div>"
      ],
      "text/plain": [
       "         city  population  violent_crime  murderand_nonnegligent_manslaughter  \\\n",
       "216  New York     8396126          52384                                  335   \n",
       "\n",
       "     rape_revised_definition1  rape_legacy_definition2  robbery  \\\n",
       "216                       NaN                     1112    19170   \n",
       "\n",
       "     aggravated_assault  property_crime  burglary  larceny_theft  \\\n",
       "216               31767          141971     16606         117931   \n",
       "\n",
       "     motor_vehicle_theft  arson3  \n",
       "216                 7434     NaN  "
      ]
     },
     "execution_count": 5,
     "metadata": {},
     "output_type": "execute_result"
    }
   ],
   "source": [
    "ny[ny['city']=='New York']"
   ]
  },
  {
   "cell_type": "code",
   "execution_count": 6,
   "metadata": {},
   "outputs": [],
   "source": [
    "# Remove NY City because it is an outlier (from exploratory analysis in previous exercise)\n",
    "ny.drop(index=216, inplace=True)"
   ]
  },
  {
   "cell_type": "code",
   "execution_count": 7,
   "metadata": {},
   "outputs": [],
   "source": [
    "# Try removing a LA - also a large city/outlier\n",
    "ca[ca['population'] > 1000000]\n",
    "ca.drop(index=234, inplace=True)"
   ]
  },
  {
   "cell_type": "code",
   "execution_count": 8,
   "metadata": {},
   "outputs": [],
   "source": [
    "columns = list(ny.columns)#.remove('property_crime')\n",
    "columns.remove('property_crime')\n",
    "columns.remove('rape_revised_definition1')\n",
    "columns.remove('city')\n",
    "formula = \"+\".join(columns)\n",
    "\n",
    "linear_formula = \"property_crime~\" + formula\n",
    "\n",
    "lm = smf.ols(formula=linear_formula, data=ny).fit()"
   ]
  },
  {
   "cell_type": "code",
   "execution_count": 9,
   "metadata": {},
   "outputs": [
    {
     "name": "stdout",
     "output_type": "stream",
     "text": [
      "property_crime~population+violent_crime+murderand_nonnegligent_manslaughter+rape_legacy_definition2+robbery+aggravated_assault+burglary+larceny_theft+motor_vehicle_theft+arson3\n"
     ]
    }
   ],
   "source": [
    "print(linear_formula)"
   ]
  },
  {
   "cell_type": "code",
   "execution_count": 10,
   "metadata": {},
   "outputs": [
    {
     "data": {
      "text/plain": [
       "Intercept                             -3.694822e-13\n",
       "population                             2.862294e-17\n",
       "violent_crime                         -1.421085e-14\n",
       "murderand_nonnegligent_manslaughter   -1.136868e-13\n",
       "rape_legacy_definition2                3.552714e-14\n",
       "robbery                                1.776357e-14\n",
       "aggravated_assault                     8.881784e-15\n",
       "burglary                               1.000000e+00\n",
       "larceny_theft                          1.000000e+00\n",
       "motor_vehicle_theft                    1.000000e+00\n",
       "arson3                                -1.154632e-14\n",
       "dtype: float64"
      ]
     },
     "execution_count": 10,
     "metadata": {},
     "output_type": "execute_result"
    }
   ],
   "source": [
    "lm.params"
   ]
  },
  {
   "cell_type": "code",
   "execution_count": 11,
   "metadata": {},
   "outputs": [
    {
     "data": {
      "text/plain": [
       "Intercept                              0.002420\n",
       "population                             0.028459\n",
       "violent_crime                          0.629634\n",
       "murderand_nonnegligent_manslaughter    0.358533\n",
       "rape_legacy_definition2                0.508479\n",
       "robbery                                0.596265\n",
       "aggravated_assault                     0.751572\n",
       "burglary                               0.000000\n",
       "larceny_theft                          0.000000\n",
       "motor_vehicle_theft                    0.000000\n",
       "arson3                                 0.807697\n",
       "dtype: float64"
      ]
     },
     "execution_count": 11,
     "metadata": {},
     "output_type": "execute_result"
    }
   ],
   "source": [
    "lm.pvalues"
   ]
  },
  {
   "cell_type": "code",
   "execution_count": 12,
   "metadata": {},
   "outputs": [
    {
     "data": {
      "text/plain": [
       "1.0"
      ]
     },
     "execution_count": 12,
     "metadata": {},
     "output_type": "execute_result"
    }
   ],
   "source": [
    "lm.rsquared"
   ]
  },
  {
   "cell_type": "markdown",
   "metadata": {},
   "source": [
    "This is suspicious - further reading shows that the definition of property crime is burglary + larceny + motor_vehicle_theft + arson3.  Remove burglary, larceny_theft, motor_vehicle_theft and arson3 from the model.\n",
    "\n",
    "Also, violent crime is murder and nonnegligent manslaughter, rape, robbery, and aggravated assault."
   ]
  },
  {
   "cell_type": "code",
   "execution_count": 13,
   "metadata": {},
   "outputs": [],
   "source": [
    "revised_columns = ['population', 'murderand_nonnegligent_manslaughter', 'rape_legacy_definition2', \n",
    "                   'robbery', 'aggravated_assault']\n",
    "\n",
    "formula = \"+\".join(revised_columns)\n",
    "\n",
    "linear_formula = \"property_crime~\" + formula\n",
    "\n",
    "lm = smf.ols(formula=linear_formula, data=ny).fit()"
   ]
  },
  {
   "cell_type": "code",
   "execution_count": 14,
   "metadata": {},
   "outputs": [
    {
     "data": {
      "text/plain": [
       "<seaborn.axisgrid.PairGrid at 0x119b28ba8>"
      ]
     },
     "execution_count": 14,
     "metadata": {},
     "output_type": "execute_result"
    },
    {
     "data": {
      "image/png": "[encoded data removed]",
      "text/plain": [
       "<Figure size 1080x1080 with 42 Axes>"
      ]
     },
     "metadata": {
      "needs_background": "light"
     },
     "output_type": "display_data"
    }
   ],
   "source": [
    "sns.pairplot(ny[['property_crime'] + revised_columns])"
   ]
  },
  {
   "cell_type": "code",
   "execution_count": 15,
   "metadata": {},
   "outputs": [
    {
     "data": {
      "text/plain": [
       "Intercept                               9.480260\n",
       "population                              0.013521\n",
       "murderand_nonnegligent_manslaughter    56.680944\n",
       "rape_legacy_definition2                45.025137\n",
       "robbery                                -0.950320\n",
       "aggravated_assault                      0.753546\n",
       "dtype: float64"
      ]
     },
     "execution_count": 15,
     "metadata": {},
     "output_type": "execute_result"
    }
   ],
   "source": [
    "lm.params"
   ]
  },
  {
   "cell_type": "code",
   "execution_count": 16,
   "metadata": {},
   "outputs": [
    {
     "data": {
      "text/plain": [
       "Intercept                              5.482046e-01\n",
       "population                             1.502831e-43\n",
       "murderand_nonnegligent_manslaughter    1.952370e-04\n",
       "rape_legacy_definition2                7.081721e-19\n",
       "robbery                                3.287495e-01\n",
       "aggravated_assault                     2.514134e-01\n",
       "dtype: float64"
      ]
     },
     "execution_count": 16,
     "metadata": {},
     "output_type": "execute_result"
    }
   ],
   "source": [
    "lm.pvalues"
   ]
  },
  {
   "cell_type": "code",
   "execution_count": 17,
   "metadata": {},
   "outputs": [
    {
     "data": {
      "text/plain": [
       "0.9509826192386062"
      ]
     },
     "execution_count": 17,
     "metadata": {},
     "output_type": "execute_result"
    }
   ],
   "source": [
    "lm.rsquared"
   ]
  },
  {
   "cell_type": "code",
   "execution_count": 18,
   "metadata": {},
   "outputs": [
    {
     "data": {
      "image/png": "[encoded data removed]",
      "text/plain": [
       "<Figure size 432x288 with 1 Axes>"
      ]
     },
     "metadata": {
      "needs_background": "light"
     },
     "output_type": "display_data"
    }
   ],
   "source": [
    "y = ny['property_crime']\n",
    "y_pred = lm.fittedvalues\n",
    "plt.plot(y, y_pred, linestyle='none', marker='.')\n",
    "plt.show()"
   ]
  },
  {
   "cell_type": "code",
   "execution_count": 19,
   "metadata": {},
   "outputs": [
    {
     "data": {
      "image/png": "[encoded data removed]",
      "text/plain": [
       "<Figure size 432x288 with 1 Axes>"
      ]
     },
     "metadata": {
      "needs_background": "light"
     },
     "output_type": "display_data"
    }
   ],
   "source": [
    "# Use wls_prediction_std to build confidence intervals\n",
    "\n",
    "prstd, iv_l, iv_u = wls_prediction_std(lm)\n",
    "\n",
    "plt.figure()\n",
    "plt.plot(iv_u[15:30], 'o', color='r')\n",
    "plt.plot(iv_l[15:30], 'o', color='r')\n",
    "plt.plot(lm.fittedvalues[15:30], 'o', color='b')\n",
    "plt.title('blue: predicted, red: 95% CI')\n",
    "plt.show()"
   ]
  },
  {
   "cell_type": "code",
   "execution_count": 20,
   "metadata": {},
   "outputs": [
    {
     "data": {
      "text/plain": [
       "Text(0.5,0,'Residuals')"
      ]
     },
     "execution_count": 20,
     "metadata": {},
     "output_type": "execute_result"
    },
    {
     "data": {
      "image/png": "[encoded data removed]",
      "text/plain": [
       "<Figure size 432x288 with 1 Axes>"
      ]
     },
     "metadata": {
      "needs_background": "light"
     },
     "output_type": "display_data"
    }
   ],
   "source": [
    "plt.hist(lm.resid_pearson)\n",
    "plt.ylabel('Count')\n",
    "plt.xlabel('Residuals')"
   ]
  },
  {
   "cell_type": "code",
   "execution_count": 21,
   "metadata": {},
   "outputs": [],
   "source": [
    "# Try another model (the example one from a few units earlier)\n",
    "ny['population_square'] = ny['population']**2\n",
    "ca['population_square'] = ca['population']**2"
   ]
  },
  {
   "cell_type": "code",
   "execution_count": 22,
   "metadata": {},
   "outputs": [],
   "source": [
    "ny['murder'] = np.where(ny['murderand_nonnegligent_manslaughter'] > 0, 1, 0)\n",
    "ca['murder'] = np.where(ca['murderand_nonnegligent_manslaughter'] > 0, 1, 0)"
   ]
  },
  {
   "cell_type": "code",
   "execution_count": 23,
   "metadata": {},
   "outputs": [],
   "source": [
    "ny['robbery2'] = np.where(ny['robbery'] > 0, 1, 0)\n",
    "ca['robbery2'] = np.where(ca['robbery'] > 0, 1, 0)"
   ]
  },
  {
   "cell_type": "code",
   "execution_count": 24,
   "metadata": {},
   "outputs": [],
   "source": [
    "revise2 = ['population', 'population_square', 'murder', 'robbery2']\n",
    "\n",
    "formula = \"+\".join(revise2)\n",
    "\n",
    "linear_formula = \"property_crime~\" + formula\n",
    "\n",
    "lm2 = smf.ols(formula=linear_formula, data=ny).fit()"
   ]
  },
  {
   "cell_type": "code",
   "execution_count": 25,
   "metadata": {},
   "outputs": [
    {
     "data": {
      "text/plain": [
       "Intercept           -1.681587e+01\n",
       "population           1.295109e-02\n",
       "population_square    1.149205e-07\n",
       "murder               1.950387e+02\n",
       "robbery2             9.282058e+01\n",
       "dtype: float64"
      ]
     },
     "execution_count": 25,
     "metadata": {},
     "output_type": "execute_result"
    }
   ],
   "source": [
    "lm2.params"
   ]
  },
  {
   "cell_type": "code",
   "execution_count": 26,
   "metadata": {},
   "outputs": [
    {
     "data": {
      "text/plain": [
       "Intercept            6.408973e-01\n",
       "population           5.765236e-09\n",
       "population_square    1.727610e-24\n",
       "murder               1.137283e-02\n",
       "robbery2             7.204162e-02\n",
       "dtype: float64"
      ]
     },
     "execution_count": 26,
     "metadata": {},
     "output_type": "execute_result"
    }
   ],
   "source": [
    "lm2.pvalues"
   ]
  },
  {
   "cell_type": "code",
   "execution_count": 27,
   "metadata": {},
   "outputs": [
    {
     "data": {
      "text/plain": [
       "0.8444937611173492"
      ]
     },
     "execution_count": 27,
     "metadata": {},
     "output_type": "execute_result"
    }
   ],
   "source": [
    "lm2.rsquared"
   ]
  },
  {
   "cell_type": "markdown",
   "metadata": {},
   "source": [
    "This is not as good of a model"
   ]
  },
  {
   "cell_type": "code",
   "execution_count": 28,
   "metadata": {},
   "outputs": [],
   "source": [
    "y_pred = lm2.fittedvalues"
   ]
  },
  {
   "cell_type": "code",
   "execution_count": 29,
   "metadata": {},
   "outputs": [
    {
     "data": {
      "image/png": "[encoded data removed]",
      "text/plain": [
       "<Figure size 432x288 with 1 Axes>"
      ]
     },
     "metadata": {
      "needs_background": "light"
     },
     "output_type": "display_data"
    }
   ],
   "source": [
    "plt.plot(y, y_pred, linestyle='none', marker='.', alpha=.5, color='blue')\n",
    "plt.xlabel('Actual property crime')\n",
    "plt.ylabel('Predicted Property crime')\n",
    "plt.title('Population + population squred + murder + robbery2')\n",
    "plt.show()"
   ]
  },
  {
   "cell_type": "code",
   "execution_count": 30,
   "metadata": {},
   "outputs": [
    {
     "data": {
      "text/plain": [
       "Text(0.5,0,'Residuals')"
      ]
     },
     "execution_count": 30,
     "metadata": {},
     "output_type": "execute_result"
    },
    {
     "data": {
      "image/png": "[encoded data removed]",
      "text/plain": [
       "<Figure size 432x288 with 1 Axes>"
      ]
     },
     "metadata": {
      "needs_background": "light"
     },
     "output_type": "display_data"
    }
   ],
   "source": [
    "plt.hist(lm2.resid_pearson)\n",
    "plt.ylabel('Count')\n",
    "plt.xlabel('Residuals')"
   ]
  },
  {
   "cell_type": "code",
   "execution_count": 31,
   "metadata": {},
   "outputs": [],
   "source": [
    "# Since violent crime is equal to the other parameters added, try just with violent crime\n",
    "revised3 = ['population', 'violent_crime']\n",
    "\n",
    "formula = \"+\".join(revised3)\n",
    "\n",
    "linear_formula = \"property_crime~\" + formula\n",
    "\n",
    "lm3 = smf.ols(formula=linear_formula, data=ny).fit()"
   ]
  },
  {
   "cell_type": "code",
   "execution_count": 32,
   "metadata": {},
   "outputs": [
    {
     "data": {
      "text/plain": [
       "Intercept        33.162437\n",
       "population        0.012727\n",
       "violent_crime     2.919475\n",
       "dtype: float64"
      ]
     },
     "execution_count": 32,
     "metadata": {},
     "output_type": "execute_result"
    }
   ],
   "source": [
    "lm3.params"
   ]
  },
  {
   "cell_type": "code",
   "execution_count": 33,
   "metadata": {},
   "outputs": [
    {
     "data": {
      "text/plain": [
       "Intercept        8.222107e-02\n",
       "population       1.141345e-30\n",
       "violent_crime    2.439765e-81\n",
       "dtype: float64"
      ]
     },
     "execution_count": 33,
     "metadata": {},
     "output_type": "execute_result"
    }
   ],
   "source": [
    "lm3.pvalues"
   ]
  },
  {
   "cell_type": "code",
   "execution_count": 34,
   "metadata": {},
   "outputs": [
    {
     "data": {
      "text/plain": [
       "0.9264365606475871"
      ]
     },
     "execution_count": 34,
     "metadata": {},
     "output_type": "execute_result"
    }
   ],
   "source": [
    "lm3.rsquared"
   ]
  },
  {
   "cell_type": "markdown",
   "metadata": {},
   "source": [
    "Still not as good as previous"
   ]
  },
  {
   "cell_type": "code",
   "execution_count": 35,
   "metadata": {},
   "outputs": [
    {
     "data": {
      "text/plain": [
       "Text(0.5,0,'Residuals')"
      ]
     },
     "execution_count": 35,
     "metadata": {},
     "output_type": "execute_result"
    },
    {
     "data": {
      "image/png": "[encoded data removed]",
      "text/plain": [
       "<Figure size 432x288 with 1 Axes>"
      ]
     },
     "metadata": {
      "needs_background": "light"
     },
     "output_type": "display_data"
    }
   ],
   "source": [
    "plt.hist(lm3.resid_pearson)\n",
    "plt.ylabel('Count')\n",
    "plt.xlabel('Residuals')"
   ]
  },
  {
   "cell_type": "code",
   "execution_count": 36,
   "metadata": {},
   "outputs": [],
   "source": [
    "revised4 = ['murderand_nonnegligent_manslaughter', 'population',\n",
    "                   'robbery', 'aggravated_assault']\n",
    "\n",
    "formula = \"+\".join(revised4)\n",
    "\n",
    "linear_formula = \"property_crime~\" + formula\n",
    "\n",
    "lm4 = smf.ols(formula=linear_formula, data=ny).fit()"
   ]
  },
  {
   "cell_type": "code",
   "execution_count": 37,
   "metadata": {},
   "outputs": [
    {
     "data": {
      "text/plain": [
       "Intercept                               21.449554\n",
       "murderand_nonnegligent_manslaughter    131.155823\n",
       "population                               0.014081\n",
       "robbery                                 -3.445322\n",
       "aggravated_assault                       4.051620\n",
       "dtype: float64"
      ]
     },
     "execution_count": 37,
     "metadata": {},
     "output_type": "execute_result"
    }
   ],
   "source": [
    "lm4.params"
   ]
  },
  {
   "cell_type": "code",
   "execution_count": 38,
   "metadata": {},
   "outputs": [
    {
     "data": {
      "text/plain": [
       "0.9382299441204732"
      ]
     },
     "execution_count": 38,
     "metadata": {},
     "output_type": "execute_result"
    }
   ],
   "source": [
    "lm4.rsquared"
   ]
  },
  {
   "cell_type": "code",
   "execution_count": 39,
   "metadata": {},
   "outputs": [
    {
     "data": {
      "text/plain": [
       "Intercept                              2.243841e-01\n",
       "murderand_nonnegligent_manslaughter    5.789145e-18\n",
       "population                             3.300329e-39\n",
       "robbery                                1.114563e-03\n",
       "aggravated_assault                     2.568335e-10\n",
       "dtype: float64"
      ]
     },
     "execution_count": 39,
     "metadata": {},
     "output_type": "execute_result"
    }
   ],
   "source": [
    "lm4.pvalues"
   ]
  },
  {
   "cell_type": "markdown",
   "metadata": {},
   "source": [
    "## Check Model 4 with CA"
   ]
  },
  {
   "cell_type": "code",
   "execution_count": 40,
   "metadata": {},
   "outputs": [
    {
     "name": "stdout",
     "output_type": "stream",
     "text": [
      "[('murderand_nonnegligent_manslaughter', 131.1558233267861), ('population', 0.014080765720039017), ('robbery', -3.4453222579989022), ('aggravated_assault', 4.0516202389284395)]\n"
     ]
    },
    {
     "name": "stderr",
     "output_type": "stream",
     "text": [
      "/usr/local/lib/python3.7/site-packages/sklearn/linear_model/base.py:485: RuntimeWarning: internal gelsd driver lwork query error, required iwork dimension not returned. This is likely the result of LAPACK bug 0038, fixed in LAPACK 3.2.2 (released July 21, 2010). Falling back to 'gelss' driver.\n",
      "  linalg.lstsq(X, y)\n"
     ]
    }
   ],
   "source": [
    "# create X and y\n",
    "X = ny[revised4]\n",
    "y = ny.property_crime\n",
    "\n",
    "# instantiate\n",
    "lm4 = LinearRegression()\n",
    "# fit\n",
    "model = lm4.fit(X, y)\n",
    "\n",
    "# print coefficients\n",
    "print(list(zip(revised4, lm4.coef_)))\n"
   ]
  },
  {
   "cell_type": "code",
   "execution_count": 41,
   "metadata": {},
   "outputs": [
    {
     "data": {
      "text/plain": [
       "0.7468166049838549"
      ]
     },
     "execution_count": 41,
     "metadata": {},
     "output_type": "execute_result"
    }
   ],
   "source": [
    "y_pred_ca = model.predict(ca[revised4])\n",
    "model.score(ca[revised4], ca['property_crime'].values.reshape(-1,1))"
   ]
  },
  {
   "cell_type": "markdown",
   "metadata": {},
   "source": [
    "## Check model 3 with CA"
   ]
  },
  {
   "cell_type": "code",
   "execution_count": 42,
   "metadata": {},
   "outputs": [
    {
     "name": "stdout",
     "output_type": "stream",
     "text": [
      "[('population', 0.01272656979870404), ('violent_crime', 2.919475495463388)]\n"
     ]
    }
   ],
   "source": [
    "# create X and y\n",
    "X = ny[revised3]\n",
    "y = ny.property_crime\n",
    "\n",
    "# instantiate\n",
    "lm3 = LinearRegression()\n",
    "# fit\n",
    "model = lm3.fit(X, y)\n",
    "\n",
    "# print coefficients\n",
    "print(list(zip(revised3, lm3.coef_)))"
   ]
  },
  {
   "cell_type": "code",
   "execution_count": 43,
   "metadata": {},
   "outputs": [
    {
     "data": {
      "text/plain": [
       "0.9142640572295261"
      ]
     },
     "execution_count": 43,
     "metadata": {},
     "output_type": "execute_result"
    }
   ],
   "source": [
    "y_pred_ca = model.predict(ca[revised3])\n",
    "model.score(ca[revised3], ca['property_crime'].values.reshape(-1,1))"
   ]
  },
  {
   "cell_type": "markdown",
   "metadata": {},
   "source": [
    "## Check Model 2 with CA"
   ]
  },
  {
   "cell_type": "code",
   "execution_count": 44,
   "metadata": {},
   "outputs": [
    {
     "name": "stdout",
     "output_type": "stream",
     "text": [
      "[('population', 0.012951087147310216), ('population_square', 1.1492052761697948e-07), ('murder', 195.03866563805332), ('robbery2', 92.82058454517302)]\n"
     ]
    }
   ],
   "source": [
    "# create X and y\n",
    "X = ny[revise2]\n",
    "y = ny.property_crime\n",
    "\n",
    "# instantiate\n",
    "lm2 = LinearRegression()\n",
    "# fit\n",
    "model = lm2.fit(X, y)\n",
    "\n",
    "# print coefficients\n",
    "print(list(zip(revise2, lm2.coef_)))"
   ]
  },
  {
   "cell_type": "code",
   "execution_count": 45,
   "metadata": {},
   "outputs": [
    {
     "data": {
      "text/plain": [
       "-6.889091709019881"
      ]
     },
     "execution_count": 45,
     "metadata": {},
     "output_type": "execute_result"
    }
   ],
   "source": [
    "y_pred_ca = model.predict(ca[revise2])\n",
    "model.score(ca[revise2], ca['property_crime'].values.reshape(-1,1))"
   ]
  },
  {
   "cell_type": "markdown",
   "metadata": {},
   "source": [
    "## Check original model with CA"
   ]
  },
  {
   "cell_type": "code",
   "execution_count": 46,
   "metadata": {},
   "outputs": [
    {
     "name": "stdout",
     "output_type": "stream",
     "text": [
      "[('population', 0.013521112045402671), ('murderand_nonnegligent_manslaughter', 56.68094393568588), ('rape_legacy_definition2', 45.025137473899136), ('robbery', -0.950319956664686), ('aggravated_assault', 0.7535459020534949)]\n"
     ]
    }
   ],
   "source": [
    "# create X and y\n",
    "X = ny[revised_columns]\n",
    "y = ny.property_crime\n",
    "\n",
    "# instantiate\n",
    "lm = LinearRegression()\n",
    "# fit\n",
    "model = lm.fit(X, y)\n",
    "\n",
    "# print coefficients\n",
    "print(list(zip(revised_columns, lm.coef_)))"
   ]
  },
  {
   "cell_type": "code",
   "execution_count": 47,
   "metadata": {},
   "outputs": [
    {
     "data": {
      "text/plain": [
       "0.8001048555509326"
      ]
     },
     "execution_count": 47,
     "metadata": {},
     "output_type": "execute_result"
    }
   ],
   "source": [
    "y_pred_ca = model.predict(ca[revised_columns])\n",
    "model.score(ca[revised_columns], ca['property_crime'].values.reshape(-1,1))"
   ]
  },
  {
   "cell_type": "code",
   "execution_count": 48,
   "metadata": {},
   "outputs": [
    {
     "data": {
      "text/plain": [
       "Text(0,0.5,'Predicted Property Crime')"
      ]
     },
     "execution_count": 48,
     "metadata": {},
     "output_type": "execute_result"
    },
    {
     "data": {
      "image/png": "[encoded data removed]",
      "text/plain": [
       "<Figure size 432x288 with 1 Axes>"
      ]
     },
     "metadata": {
      "needs_background": "light"
     },
     "output_type": "display_data"
    }
   ],
   "source": [
    "plt.plot(ca['property_crime'], y_pred_ca, linestyle='none', marker='.', alpha=.5)\n",
    "plt.xlabel('Actual Property Crime')\n",
    "plt.ylabel('Predicted Property Crime')"
   ]
  },
  {
   "cell_type": "code",
   "execution_count": 49,
   "metadata": {},
   "outputs": [],
   "source": [
    "ca['y_pred_ca'] = y_pred_ca"
   ]
  },
  {
   "cell_type": "code",
   "execution_count": 50,
   "metadata": {},
   "outputs": [
    {
     "data": {
      "text/html": [
       "<div>\n",
       "<style scoped>\n",
       "    .dataframe tbody tr th:only-of-type {\n",
       "        vertical-align: middle;\n",
       "    }\n",
       "\n",
       "    .dataframe tbody tr th {\n",
       "        vertical-align: top;\n",
       "    }\n",
       "\n",
       "    .dataframe thead th {\n",
       "        text-align: right;\n",
       "    }\n",
       "</style>\n",
       "<table border=\"1\" class=\"dataframe\">\n",
       "  <thead>\n",
       "    <tr style=\"text-align: right;\">\n",
       "      <th></th>\n",
       "      <th>city</th>\n",
       "      <th>population</th>\n",
       "      <th>violent_crime</th>\n",
       "      <th>murderand_nonnegligent_manslaughter</th>\n",
       "      <th>rape_revised_definition1</th>\n",
       "      <th>rape_legacy_definition2</th>\n",
       "      <th>robbery</th>\n",
       "      <th>aggravated_assault</th>\n",
       "      <th>property_crime</th>\n",
       "      <th>burglary</th>\n",
       "      <th>larceny_theft</th>\n",
       "      <th>motor_vehicle_theft</th>\n",
       "      <th>arson</th>\n",
       "      <th>population_square</th>\n",
       "      <th>murder</th>\n",
       "      <th>robbery2</th>\n",
       "      <th>y_pred_ca</th>\n",
       "    </tr>\n",
       "  </thead>\n",
       "  <tbody>\n",
       "    <tr>\n",
       "      <th>353</th>\n",
       "      <td>San Diego</td>\n",
       "      <td>1349306</td>\n",
       "      <td>5303</td>\n",
       "      <td>39</td>\n",
       "      <td>NaN</td>\n",
       "      <td>316</td>\n",
       "      <td>1456</td>\n",
       "      <td>3492</td>\n",
       "      <td>31728</td>\n",
       "      <td>6355</td>\n",
       "      <td>19230</td>\n",
       "      <td>6143</td>\n",
       "      <td>178</td>\n",
       "      <td>1820626681636</td>\n",
       "      <td>1</td>\n",
       "      <td>1</td>\n",
       "      <td>35939.814558</td>\n",
       "    </tr>\n",
       "    <tr>\n",
       "      <th>360</th>\n",
       "      <td>San Jose</td>\n",
       "      <td>992143</td>\n",
       "      <td>3215</td>\n",
       "      <td>38</td>\n",
       "      <td>NaN</td>\n",
       "      <td>270</td>\n",
       "      <td>1095</td>\n",
       "      <td>1812</td>\n",
       "      <td>25510</td>\n",
       "      <td>5173</td>\n",
       "      <td>12411</td>\n",
       "      <td>7926</td>\n",
       "      <td>133</td>\n",
       "      <td>984347732449</td>\n",
       "      <td>1</td>\n",
       "      <td>1</td>\n",
       "      <td>28059.844737</td>\n",
       "    </tr>\n",
       "  </tbody>\n",
       "</table>\n",
       "</div>"
      ],
      "text/plain": [
       "          city  population  violent_crime  \\\n",
       "353  San Diego     1349306           5303   \n",
       "360   San Jose      992143           3215   \n",
       "\n",
       "     murderand_nonnegligent_manslaughter  rape_revised_definition1  \\\n",
       "353                                   39                       NaN   \n",
       "360                                   38                       NaN   \n",
       "\n",
       "     rape_legacy_definition2  robbery  aggravated_assault  property_crime  \\\n",
       "353                      316     1456                3492           31728   \n",
       "360                      270     1095                1812           25510   \n",
       "\n",
       "     burglary  larceny_theft  motor_vehicle_theft  arson  population_square  \\\n",
       "353      6355          19230                 6143    178      1820626681636   \n",
       "360      5173          12411                 7926    133       984347732449   \n",
       "\n",
       "     murder  robbery2     y_pred_ca  \n",
       "353       1         1  35939.814558  \n",
       "360       1         1  28059.844737  "
      ]
     },
     "execution_count": 50,
     "metadata": {},
     "output_type": "execute_result"
    }
   ],
   "source": [
    "ca[ca['y_pred_ca'] > 20000]"
   ]
  },
  {
   "cell_type": "markdown",
   "metadata": {
    "slideshow": {
     "slide_type": "slide"
    }
   },
   "source": [
    "It is predicting a huge amount of crime for cities with a high population"
   ]
  },
  {
   "cell_type": "code",
   "execution_count": 51,
   "metadata": {},
   "outputs": [
    {
     "data": {
      "text/plain": [
       "[('population', 0.03438607640518721),\n",
       " ('murder', 14.34737750509695),\n",
       " ('robbery2', -94.25213338174214)]"
      ]
     },
     "execution_count": 51,
     "metadata": {},
     "output_type": "execute_result"
    }
   ],
   "source": [
    "revise4 = ['population', 'murder', 'robbery2']\n",
    "# create X and y\n",
    "X = ny[revise4]\n",
    "y = ny.property_crime\n",
    "\n",
    "# instantiate\n",
    "lm2 = LinearRegression()\n",
    "# fit\n",
    "model = lm2.fit(X, y)\n",
    "\n",
    "# print coefficients\n",
    "list(zip(revise4, lm2.coef_))"
   ]
  },
  {
   "cell_type": "code",
   "execution_count": 52,
   "metadata": {},
   "outputs": [
    {
     "data": {
      "text/plain": [
       "0.8154661872672487"
      ]
     },
     "execution_count": 52,
     "metadata": {},
     "output_type": "execute_result"
    }
   ],
   "source": [
    "model.score(ca[revise4], ca['property_crime'])"
   ]
  },
  {
   "cell_type": "code",
   "execution_count": 53,
   "metadata": {},
   "outputs": [],
   "source": [
    "y_pred_ca = model.predict(ca[revise4])"
   ]
  },
  {
   "cell_type": "code",
   "execution_count": 54,
   "metadata": {},
   "outputs": [
    {
     "data": {
      "text/plain": [
       "Text(0,0.5,'Predicted Property Crime')"
      ]
     },
     "execution_count": 54,
     "metadata": {},
     "output_type": "execute_result"
    },
    {
     "data": {
      "image/png": "[encoded data removed]",
      "text/plain": [
       "<Figure size 432x288 with 1 Axes>"
      ]
     },
     "metadata": {
      "needs_background": "light"
     },
     "output_type": "display_data"
    }
   ],
   "source": [
    "plt.plot(ca['property_crime'], y_pred_ca, linestyle='none', marker='.', alpha=.5)\n",
    "plt.xlabel('Actual Property Crime')\n",
    "plt.ylabel('Predicted Property Crime')"
   ]
  },
  {
   "cell_type": "markdown",
   "metadata": {},
   "source": [
    "## Best model for CA and NY\n",
    "Selecting model 3 using just the population and violent crime seems to be the best fit for CA and NY data"
   ]
  },
  {
   "cell_type": "markdown",
   "metadata": {},
   "source": [
    "# Check on another holdout data set"
   ]
  },
  {
   "cell_type": "code",
   "execution_count": 55,
   "metadata": {},
   "outputs": [],
   "source": [
    "ma = pd.read_excel('table_8_offenses_known_to_law_enforcement_massachusetts_by_city_2013.xls', \n",
    "                  header=4, skipfooter=3)\n"
   ]
  },
  {
   "cell_type": "code",
   "execution_count": 56,
   "metadata": {},
   "outputs": [
    {
     "data": {
      "text/html": [
       "<div>\n",
       "<style scoped>\n",
       "    .dataframe tbody tr th:only-of-type {\n",
       "        vertical-align: middle;\n",
       "    }\n",
       "\n",
       "    .dataframe tbody tr th {\n",
       "        vertical-align: top;\n",
       "    }\n",
       "\n",
       "    .dataframe thead th {\n",
       "        text-align: right;\n",
       "    }\n",
       "</style>\n",
       "<table border=\"1\" class=\"dataframe\">\n",
       "  <thead>\n",
       "    <tr style=\"text-align: right;\">\n",
       "      <th></th>\n",
       "      <th>City</th>\n",
       "      <th>Population</th>\n",
       "      <th>Violent\n",
       "crime</th>\n",
       "      <th>Murder and\n",
       "nonnegligent\n",
       "manslaughter</th>\n",
       "      <th>Rape\n",
       "(revised\n",
       "definition)1</th>\n",
       "      <th>Rape\n",
       "(legacy\n",
       "definition)2</th>\n",
       "      <th>Robbery</th>\n",
       "      <th>Aggravated\n",
       "assault</th>\n",
       "      <th>Property\n",
       "crime</th>\n",
       "      <th>Burglary</th>\n",
       "      <th>Larceny-\n",
       "theft</th>\n",
       "      <th>Motor\n",
       "vehicle\n",
       "theft</th>\n",
       "      <th>Arson3</th>\n",
       "    </tr>\n",
       "  </thead>\n",
       "  <tbody>\n",
       "    <tr>\n",
       "      <th>274</th>\n",
       "      <td>Winthrop</td>\n",
       "      <td>18131</td>\n",
       "      <td>58</td>\n",
       "      <td>0</td>\n",
       "      <td>2.0</td>\n",
       "      <td>NaN</td>\n",
       "      <td>4</td>\n",
       "      <td>52</td>\n",
       "      <td>211</td>\n",
       "      <td>82</td>\n",
       "      <td>117</td>\n",
       "      <td>12</td>\n",
       "      <td>2.0</td>\n",
       "    </tr>\n",
       "    <tr>\n",
       "      <th>275</th>\n",
       "      <td>Woburn</td>\n",
       "      <td>39284</td>\n",
       "      <td>83</td>\n",
       "      <td>0</td>\n",
       "      <td>12.0</td>\n",
       "      <td>NaN</td>\n",
       "      <td>15</td>\n",
       "      <td>56</td>\n",
       "      <td>581</td>\n",
       "      <td>91</td>\n",
       "      <td>469</td>\n",
       "      <td>21</td>\n",
       "      <td>1.0</td>\n",
       "    </tr>\n",
       "    <tr>\n",
       "      <th>276</th>\n",
       "      <td>Worcester</td>\n",
       "      <td>183454</td>\n",
       "      <td>1750</td>\n",
       "      <td>9</td>\n",
       "      <td>22.0</td>\n",
       "      <td>NaN</td>\n",
       "      <td>483</td>\n",
       "      <td>1236</td>\n",
       "      <td>6239</td>\n",
       "      <td>1916</td>\n",
       "      <td>3924</td>\n",
       "      <td>399</td>\n",
       "      <td>7.0</td>\n",
       "    </tr>\n",
       "    <tr>\n",
       "      <th>277</th>\n",
       "      <td>Wrentham</td>\n",
       "      <td>11195</td>\n",
       "      <td>8</td>\n",
       "      <td>0</td>\n",
       "      <td>1.0</td>\n",
       "      <td>NaN</td>\n",
       "      <td>0</td>\n",
       "      <td>7</td>\n",
       "      <td>262</td>\n",
       "      <td>48</td>\n",
       "      <td>206</td>\n",
       "      <td>8</td>\n",
       "      <td>0.0</td>\n",
       "    </tr>\n",
       "    <tr>\n",
       "      <th>278</th>\n",
       "      <td>Yarmouth</td>\n",
       "      <td>23736</td>\n",
       "      <td>202</td>\n",
       "      <td>0</td>\n",
       "      <td>17.0</td>\n",
       "      <td>NaN</td>\n",
       "      <td>8</td>\n",
       "      <td>177</td>\n",
       "      <td>668</td>\n",
       "      <td>200</td>\n",
       "      <td>446</td>\n",
       "      <td>22</td>\n",
       "      <td>2.0</td>\n",
       "    </tr>\n",
       "  </tbody>\n",
       "</table>\n",
       "</div>"
      ],
      "text/plain": [
       "          City  Population  Violent\\ncrime  \\\n",
       "274   Winthrop       18131              58   \n",
       "275     Woburn       39284              83   \n",
       "276  Worcester      183454            1750   \n",
       "277   Wrentham       11195               8   \n",
       "278   Yarmouth       23736             202   \n",
       "\n",
       "     Murder and\\nnonnegligent\\nmanslaughter  Rape\\n(revised\\ndefinition)1  \\\n",
       "274                                       0                           2.0   \n",
       "275                                       0                          12.0   \n",
       "276                                       9                          22.0   \n",
       "277                                       0                           1.0   \n",
       "278                                       0                          17.0   \n",
       "\n",
       "     Rape\\n(legacy\\ndefinition)2  Robbery  Aggravated\\nassault  \\\n",
       "274                          NaN        4                   52   \n",
       "275                          NaN       15                   56   \n",
       "276                          NaN      483                 1236   \n",
       "277                          NaN        0                    7   \n",
       "278                          NaN        8                  177   \n",
       "\n",
       "     Property\\ncrime  Burglary  Larceny-\\ntheft  Motor\\nvehicle\\ntheft  Arson3  \n",
       "274              211        82              117                     12     2.0  \n",
       "275              581        91              469                     21     1.0  \n",
       "276             6239      1916             3924                    399     7.0  \n",
       "277              262        48              206                      8     0.0  \n",
       "278              668       200              446                     22     2.0  "
      ]
     },
     "execution_count": 56,
     "metadata": {},
     "output_type": "execute_result"
    }
   ],
   "source": [
    "ma.tail()"
   ]
  },
  {
   "cell_type": "code",
   "execution_count": 57,
   "metadata": {},
   "outputs": [],
   "source": [
    "ma.columns = fix_column_names(ma)"
   ]
  },
  {
   "cell_type": "code",
   "execution_count": 58,
   "metadata": {},
   "outputs": [
    {
     "name": "stdout",
     "output_type": "stream",
     "text": [
      "[('population', 0.01272656979870404), ('violent_crime', 2.919475495463388)]\n"
     ]
    }
   ],
   "source": [
    "# create X and y\n",
    "X = ny[revised3]\n",
    "y = ny.property_crime\n",
    "\n",
    "# instantiate\n",
    "lm3 = LinearRegression()\n",
    "# fit\n",
    "model = lm3.fit(X, y)\n",
    "\n",
    "# print coefficients\n",
    "print(list(zip(revised3, lm3.coef_)))"
   ]
  },
  {
   "cell_type": "code",
   "execution_count": 59,
   "metadata": {},
   "outputs": [
    {
     "data": {
      "text/plain": [
       "0.906241770889159"
      ]
     },
     "execution_count": 59,
     "metadata": {},
     "output_type": "execute_result"
    }
   ],
   "source": [
    "y_pred_ma = model.predict(ma[revised3])\n",
    "model.score(ma[revised3], ma['property_crime'].values.reshape(-1,1))"
   ]
  },
  {
   "cell_type": "markdown",
   "metadata": {},
   "source": [
    "Model seems to predict well with this dataset as well.\n"
   ]
  },
  {
   "cell_type": "code",
   "execution_count": 60,
   "metadata": {},
   "outputs": [
    {
     "data": {
      "image/png": "[encoded data removed]",
      "text/plain": [
       "<Figure size 432x288 with 1 Axes>"
      ]
     },
     "metadata": {
      "needs_background": "light"
     },
     "output_type": "display_data"
    }
   ],
   "source": [
    "plt.plot(ma.property_crime, y_pred_ma, linestyle='none', marker='.')\n",
    "plt.xlabel('Property crime in MA')\n",
    "plt.ylabel('Predicted property crime')\n",
    "plt.show()"
   ]
  },
  {
   "cell_type": "code",
   "execution_count": 61,
   "metadata": {},
   "outputs": [
    {
     "data": {
      "text/plain": [
       "0.7769620318436247"
      ]
     },
     "execution_count": 61,
     "metadata": {},
     "output_type": "execute_result"
    }
   ],
   "source": [
    "data_all = pd.concat([ny, ca], join='inner')\n",
    "data = data_all[revised3]\n",
    "target = data_all['property_crime']\n",
    "\n",
    "lm_ny_ca = LinearRegression()\n",
    "model = lm_ny_ca.fit(data, target)\n",
    "\n",
    "model.score(ma[revised3], ma.property_crime.values.reshape(-1,1))"
   ]
  },
  {
   "cell_type": "code",
   "execution_count": 62,
   "metadata": {},
   "outputs": [
    {
     "name": "stdout",
     "output_type": "stream",
     "text": [
      "[0.86293049 0.98006629 0.86363693 0.79637302 0.93894232 0.96995226\n",
      " 0.83922756 0.92097864 0.91617804 0.98133621]\n"
     ]
    }
   ],
   "source": [
    "kfold = KFold(n_splits=10)\n",
    "results = cross_val_score(lm_ny_ca, ma[revised3], ma['property_crime'], cv=kfold)\n",
    "print(results)"
   ]
  },
  {
   "cell_type": "markdown",
   "metadata": {},
   "source": [
    "Whoa, not all folds behave great. How to figure out which data contributes?"
   ]
  },
  {
   "cell_type": "code",
   "execution_count": 63,
   "metadata": {},
   "outputs": [
    {
     "name": "stdout",
     "output_type": "stream",
     "text": [
      "Accuracy: 90.696% (6.065%)\n"
     ]
    }
   ],
   "source": [
    "print(\"Accuracy: %.3f%% (%.3f%%)\" % (results.mean()*100.0, results.std()*100.0))"
   ]
  },
  {
   "cell_type": "code",
   "execution_count": null,
   "metadata": {},
   "outputs": [],
   "source": []
  }
 ],
 "metadata": {
  "kernelspec": {
   "display_name": "Python 3",
   "language": "python",
   "name": "python3"
  },
  "language_info": {
   "codemirror_mode": {
    "name": "ipython",
    "version": 3
   },
   "file_extension": ".py",
   "mimetype": "text/x-python",
   "name": "python",
   "nbconvert_exporter": "python",
   "pygments_lexer": "ipython3",
   "version": "3.7.0"
  }
 },
 "nbformat": 4,
 "nbformat_minor": 2
}
